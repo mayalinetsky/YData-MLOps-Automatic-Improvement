{
 "cells": [
  {
   "metadata": {},
   "cell_type": "markdown",
   "source": [
    "Improving Model Performance Using MACEst on the Bank Marketing Dataset \n",
    "===\n",
    "\n",
    "This notebook will test weather MACEst can be used in order to improve the ROC-AUC score of a trained model on the bank marketing dataset."
   ],
   "id": "237c28fccac8d3f3"
  },
  {
   "metadata": {},
   "cell_type": "markdown",
   "source": [
    "# Training Probabilistic XGBoost on the Bank Marketing Dataset\n",
    "\n",
    "Because MACEst requires data for training the 'confidence model', we'll keep some data "
   ],
   "id": "b5f74111fe6215e1"
  },
  {
   "metadata": {},
   "cell_type": "markdown",
   "source": "## Data Loading",
   "id": "adfcde4d1560e47"
  },
  {
   "cell_type": "code",
   "execution_count": null,
   "id": "initial_id",
   "metadata": {
    "collapsed": true
   },
   "outputs": [],
   "source": "# todo"
  },
  {
   "metadata": {},
   "cell_type": "markdown",
   "source": "",
   "id": "95f41f182159f216"
  }
 ],
 "metadata": {
  "kernelspec": {
   "display_name": "Python 3",
   "language": "python",
   "name": "python3"
  },
  "language_info": {
   "codemirror_mode": {
    "name": "ipython",
    "version": 2
   },
   "file_extension": ".py",
   "mimetype": "text/x-python",
   "name": "python",
   "nbconvert_exporter": "python",
   "pygments_lexer": "ipython2",
   "version": "2.7.6"
  }
 },
 "nbformat": 4,
 "nbformat_minor": 5
}
