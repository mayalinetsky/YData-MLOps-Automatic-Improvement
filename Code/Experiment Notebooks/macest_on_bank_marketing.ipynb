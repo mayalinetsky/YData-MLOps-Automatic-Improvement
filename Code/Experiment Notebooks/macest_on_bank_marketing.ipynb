{
 "cells": [
  {
   "metadata": {},
   "cell_type": "markdown",
   "source": [
    "Improving Model Performance Using MACEst on the Bank Marketing Dataset \n",
    "===\n",
    "\n",
    "This notebook will test weather MACEst can be used in order to improve the ROC-AUC score of a trained model on the bank marketing dataset."
   ],
   "id": "237c28fccac8d3f3"
  },
  {
   "metadata": {},
   "cell_type": "markdown",
   "source": [
    "MACEst requires the following 'batches' of data (see [here](https://github.com/oracle/macest?tab=readme-ov-file#classification)):\n",
    "1. Regular Training Collection (34%)\n",
    "2. Confidence Collection: (66%)\n",
    "   * conf_train (33%)\n",
    "   * cal (33%)\n",
    "      * cal_train (16.5%)\n",
    "      * cal_test  (16.5%)\n",
    "\n",
    "So in order to make sure the non-improved model and the improved model are evaluated correctly, we'll make sure both models are trained on the same data and are tested on the same data."
   ],
   "id": "fa2bb41ff2d256f0"
  },
  {
   "metadata": {},
   "cell_type": "markdown",
   "source": "# Data Loading, Preprocessing and Splitting",
   "id": "adfcde4d1560e47"
  },
  {
   "cell_type": "code",
   "execution_count": null,
   "id": "initial_id",
   "metadata": {
    "collapsed": true
   },
   "outputs": [],
   "source": "# todo"
  },
  {
   "metadata": {},
   "cell_type": "markdown",
   "source": "# Training Probabilistic XGBoost on the Bank Marketing Dataset",
   "id": "159499096f2e0f4c"
  },
  {
   "metadata": {},
   "cell_type": "code",
   "outputs": [],
   "execution_count": null,
   "source": "# insert code here",
   "id": "f513de570312f1ff"
  },
  {
   "metadata": {},
   "cell_type": "markdown",
   "source": "",
   "id": "24570b1d63da4eb1"
  },
  {
   "metadata": {},
   "cell_type": "code",
   "outputs": [],
   "execution_count": null,
   "source": [
    "from macest.classification import models as cl_mod\n",
    "from sklearn.ensemble import RandomForestClassifier\n",
    "from sklearn import datasets\n",
    "from sklearn.model_selection import train_test_split\n",
    "\n",
    "X,y = datasets.make_circles(n_samples= 2 * 10**4, noise = 0.4, factor =0.001)\n",
    "\n",
    "X_pp_train, X_conf, y_pp_train, y_conf  = train_test_split(X,\n",
    "                                                          y,\n",
    "                                                          test_size=0.66,\n",
    "                                                          random_state=10)\n",
    "\n",
    "X_conf_train, X_cal, y_conf_train, y_cal = train_test_split(X_conf,\n",
    "                                                           y_conf,\n",
    "                                                           test_size=0.5,\n",
    "                                                           random_state=0)\n",
    "\n",
    "X_cal_train, X_cal_test, y_cal_train,  y_cal_test = train_test_split(X_cal,\n",
    "                                                 y_cal,\n",
    "                                                 test_size=0.5,\n",
    "                                                 random_state=0)\n",
    "\n",
    "point_pred_model = RandomForestClassifier(random_state =0,\n",
    "                                         n_estimators =800,\n",
    "                                         n_jobs =-1)\n",
    "\n",
    "point_pred_model.fit(X_pp_train,\n",
    "                    y_pp_train)\n",
    "\n",
    "macest_model = cl_mod.ModelWithConfidence(point_pred_model,\n",
    "                                      X_conf_train,\n",
    "                                      y_conf_train)\n",
    "\n",
    "macest_model.fit(X_cal_train, y_cal_train)\n",
    "\n",
    "conf_preds = macest_model.predict_confidence_of_point_prediction(X_cal_test)"
   ],
   "id": "d7dac7c26bba1d4e"
  }
 ],
 "metadata": {
  "kernelspec": {
   "display_name": "Python 3",
   "language": "python",
   "name": "python3"
  },
  "language_info": {
   "codemirror_mode": {
    "name": "ipython",
    "version": 2
   },
   "file_extension": ".py",
   "mimetype": "text/x-python",
   "name": "python",
   "nbconvert_exporter": "python",
   "pygments_lexer": "ipython2",
   "version": "2.7.6"
  }
 },
 "nbformat": 4,
 "nbformat_minor": 5
}
