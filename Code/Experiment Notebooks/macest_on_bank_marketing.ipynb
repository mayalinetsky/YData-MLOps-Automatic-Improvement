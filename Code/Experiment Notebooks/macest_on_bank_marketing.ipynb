{
 "cells": [
  {
   "metadata": {},
   "cell_type": "markdown",
   "source": [
    "Improving Model Performance Using MACEst on the Bank Marketing Dataset \n",
    "===\n",
    "\n",
    "This notebook will test weather MACEst can be used in order to improve the ROC-AUC score of a trained model on the bank marketing dataset."
   ],
   "id": "237c28fccac8d3f3"
  },
  {
   "metadata": {},
   "cell_type": "markdown",
   "source": [
    "MACEst requires the following 'batches' of data (see [here](https://github.com/oracle/macest?tab=readme-ov-file#classification)):\n",
    "1. Regular Training Collection (34%)\n",
    "2. Confidence Collection: (66%)\n",
    "   * conf_train (33%)\n",
    "   * cal (33%)\n",
    "      * cal_train (16.5%)\n",
    "      * cal_test  (16.5%)\n",
    "\n",
    "So in order to make sure the non-improved model and the improved model are evaluated correctly, we'll train both models on the same data and test on the same data."
   ],
   "id": "fa2bb41ff2d256f0"
  },
  {
   "metadata": {},
   "cell_type": "markdown",
   "source": "# Data Loading, Preprocessing and Splitting",
   "id": "adfcde4d1560e47"
  },
  {
   "cell_type": "code",
   "id": "initial_id",
   "metadata": {
    "collapsed": true,
    "ExecuteTime": {
     "end_time": "2024-07-12T15:03:31.061296Z",
     "start_time": "2024-07-12T15:03:20.357003Z"
    }
   },
   "source": [
    "from data_acquisition.bank_marketing_loading import load_bank_marketing_dataset\n",
    "from modeling.xgboost_bank_marketing_impl import preprocess_data\n",
    "from sklearn.model_selection import train_test_split\n",
    "\n",
    "bank_marketing_raw_data_df = load_bank_marketing_dataset()\n",
    "\n",
    "data_X, data_y = preprocess_data(bank_marketing_raw_data_df)\n",
    "\n",
    "X_regular_train, X_conf, y_regular_train, y_conf  = train_test_split(data_X,\n",
    "                                                                     data_y,\n",
    "                                                                     stratify=data_y,\n",
    "                                                                     test_size=0.66,\n",
    "                                                                     random_state=10)\n",
    "\n",
    "X_conf_train, X_cal, y_conf_train, y_cal = train_test_split(X_conf,\n",
    "                                                            y_conf,\n",
    "                                                            stratify=y_conf,\n",
    "                                                            test_size=0.5,\n",
    "                                                            random_state=0)\n",
    "\n",
    "X_cal_train, X_cal_test, y_cal_train,  y_cal_test = train_test_split(X_cal,\n",
    "                                                                     y_cal,\n",
    "                                                                     stratify=y_cal,\n",
    "                                                                     test_size=0.5,\n",
    "                                                                     random_state=0)"
   ],
   "outputs": [],
   "execution_count": 1
  },
  {
   "metadata": {},
   "cell_type": "markdown",
   "source": "# Training Probabilistic XGBoost on the Bank Marketing Dataset",
   "id": "159499096f2e0f4c"
  },
  {
   "metadata": {
    "ExecuteTime": {
     "end_time": "2024-07-12T15:03:32.492445Z",
     "start_time": "2024-07-12T15:03:31.063310Z"
    }
   },
   "cell_type": "code",
   "source": [
    "import xgboost\n",
    "import pandas as pd\n",
    "from modeling.xgboost_bank_marketing_impl import train_model, evaluate_predictions_roc_auc_score\n",
    "\n",
    "no_macest_train_X = pd.concat([X_regular_train, X_conf_train, X_cal_train])\n",
    "no_macest_train_y = pd.concat([y_regular_train, y_conf_train, y_cal_train])\n",
    "\n",
    "# test set is the same: cal_test\n",
    "no_macest_xgboost = train_model(no_macest_train_X, no_macest_train_y)\n",
    "\n",
    "no_macest_test_preds = no_macest_xgboost.predict(xgboost.DMatrix(X_cal_test))\n",
    "no_macest_roc_auc_score_val = evaluate_predictions_roc_auc_score(y_cal_test, no_macest_test_preds)\n",
    "print(f\"ROC AUC Score for XGBoost without MACEst: {no_macest_roc_auc_score_val}\")"
   ],
   "id": "f513de570312f1ff",
   "outputs": [
    {
     "name": "stdout",
     "output_type": "stream",
     "text": [
      "Begin training\n",
      "[18:03:32] WARNING: C:/Users/administrator/workspace/xgboost-win64_release_1.6.0/src/learner.cc:627: \n",
      "Parameters: { \"max_dept\", \"silent\" } might not be used.\n",
      "\n",
      "  This could be a false alarm, with some parameters getting used by language bindings but\n",
      "  then being mistakenly passed down to XGBoost core, or some parameter actually being used\n",
      "  but getting flagged wrongly here. Please open an issue if you find any such cases.\n",
      "\n",
      "\n",
      "Finished training\n",
      "ROC AUC Score for XGBoost without MACEst: 0.9284442313798231\n"
     ]
    }
   ],
   "execution_count": 2
  },
  {
   "metadata": {},
   "cell_type": "markdown",
   "source": "# Training Probabilistic XGBoost on the Bank Marketing Dataset with MACEst",
   "id": "24570b1d63da4eb1"
  },
  {
   "metadata": {
    "ExecuteTime": {
     "end_time": "2024-07-12T15:04:37.031528Z",
     "start_time": "2024-07-12T15:03:40.015064Z"
    }
   },
   "cell_type": "code",
   "source": [
    "from modeling.xgboost_bank_marketing_impl import _make_predict_wrapper\n",
    "from macest.classification import models as cl_mod\n",
    "\n",
    "point_pred_model = train_model(X_regular_train, y_regular_train)\n",
    "# wrap the predict function of the point_pred_model in order to fit the requirement of np.ndarray input into ModelWithConfidence\n",
    "point_pred_model.predict = _make_predict_wrapper(point_pred_model)\n",
    "print(\"Finished wrapping predict\")\n",
    "macest_model = cl_mod.ModelWithConfidence(point_pred_model,\n",
    "                                      X_conf_train.values,\n",
    "                                      y_conf_train.values[:, 0])  # y_conf_train must be converted to a single dimension array\n",
    "\n",
    "macest_model.fit(X_cal_train, y_cal_train)\n",
    "\n",
    "macest_test_preds = macest_model.predict_confidence_of_point_prediction(X_cal_test)\n",
    "\n",
    "macest_roc_auc_score_val = evaluate_predictions_roc_auc_score(y_cal_test, macest_test_preds)\n",
    "print(f\"ROC AUC Score for XGBoost with MACEst: {macest_roc_auc_score_val}\")"
   ],
   "id": "d7dac7c26bba1d4e",
   "outputs": [
    {
     "name": "stdout",
     "output_type": "stream",
     "text": [
      "Begin training\n",
      "[18:03:40] WARNING: C:/Users/administrator/workspace/xgboost-win64_release_1.6.0/src/learner.cc:627: \n",
      "Parameters: { \"max_dept\", \"silent\" } might not be used.\n",
      "\n",
      "  This could be a false alarm, with some parameters getting used by language bindings but\n",
      "  then being mistakenly passed down to XGBoost core, or some parameter actually being used\n",
      "  but getting flagged wrongly here. Please open an issue if you find any such cases.\n",
      "\n",
      "\n",
      "Finished training\n",
      "In _make_predict_wrapper\n",
      "Before _make_predict_wrapper return\n",
      "Finished wrapping predict\n"
     ]
    },
    {
     "ename": "KeyboardInterrupt",
     "evalue": "",
     "output_type": "error",
     "traceback": [
      "\u001B[1;31m---------------------------------------------------------------------------\u001B[0m",
      "\u001B[1;31mKeyboardInterrupt\u001B[0m                         Traceback (most recent call last)",
      "\u001B[1;32m~\\AppData\\Local\\Temp\\ipykernel_3748\\230709685.py\u001B[0m in \u001B[0;36m<module>\u001B[1;34m\u001B[0m\n\u001B[0;32m      6\u001B[0m \u001B[0mpoint_pred_model\u001B[0m\u001B[1;33m.\u001B[0m\u001B[0mpredict\u001B[0m \u001B[1;33m=\u001B[0m \u001B[0m_make_predict_wrapper\u001B[0m\u001B[1;33m(\u001B[0m\u001B[0mpoint_pred_model\u001B[0m\u001B[1;33m)\u001B[0m\u001B[1;33m\u001B[0m\u001B[1;33m\u001B[0m\u001B[0m\n\u001B[0;32m      7\u001B[0m \u001B[0mprint\u001B[0m\u001B[1;33m(\u001B[0m\u001B[1;34m\"Finished wrapping predict\"\u001B[0m\u001B[1;33m)\u001B[0m\u001B[1;33m\u001B[0m\u001B[1;33m\u001B[0m\u001B[0m\n\u001B[1;32m----> 8\u001B[1;33m macest_model = cl_mod.ModelWithConfidence(point_pred_model,\n\u001B[0m\u001B[0;32m      9\u001B[0m                                       \u001B[0mX_conf_train\u001B[0m\u001B[1;33m.\u001B[0m\u001B[0mvalues\u001B[0m\u001B[1;33m,\u001B[0m\u001B[1;33m\u001B[0m\u001B[1;33m\u001B[0m\u001B[0m\n\u001B[0;32m     10\u001B[0m                                       y_conf_train.values[:, 0])  # y_conf_train must be converted to a single dimension array\n",
      "\u001B[1;32m~\\AppData\\Local\\Temp\\ipykernel_3748\\230709685.py\u001B[0m in \u001B[0;36m<module>\u001B[1;34m\u001B[0m\n\u001B[0;32m      6\u001B[0m \u001B[0mpoint_pred_model\u001B[0m\u001B[1;33m.\u001B[0m\u001B[0mpredict\u001B[0m \u001B[1;33m=\u001B[0m \u001B[0m_make_predict_wrapper\u001B[0m\u001B[1;33m(\u001B[0m\u001B[0mpoint_pred_model\u001B[0m\u001B[1;33m)\u001B[0m\u001B[1;33m\u001B[0m\u001B[1;33m\u001B[0m\u001B[0m\n\u001B[0;32m      7\u001B[0m \u001B[0mprint\u001B[0m\u001B[1;33m(\u001B[0m\u001B[1;34m\"Finished wrapping predict\"\u001B[0m\u001B[1;33m)\u001B[0m\u001B[1;33m\u001B[0m\u001B[1;33m\u001B[0m\u001B[0m\n\u001B[1;32m----> 8\u001B[1;33m macest_model = cl_mod.ModelWithConfidence(point_pred_model,\n\u001B[0m\u001B[0;32m      9\u001B[0m                                       \u001B[0mX_conf_train\u001B[0m\u001B[1;33m.\u001B[0m\u001B[0mvalues\u001B[0m\u001B[1;33m,\u001B[0m\u001B[1;33m\u001B[0m\u001B[1;33m\u001B[0m\u001B[0m\n\u001B[0;32m     10\u001B[0m                                       y_conf_train.values[:, 0])  # y_conf_train must be converted to a single dimension array\n",
      "\u001B[1;32m_pydevd_bundle\\\\pydevd_cython_win32_37_64.pyx\u001B[0m in \u001B[0;36m_pydevd_bundle.pydevd_cython_win32_37_64.SafeCallWrapper.__call__\u001B[1;34m()\u001B[0m\n",
      "\u001B[1;32m_pydevd_bundle\\\\pydevd_cython_win32_37_64.pyx\u001B[0m in \u001B[0;36m_pydevd_bundle.pydevd_cython_win32_37_64.PyDBFrame.trace_dispatch\u001B[1;34m()\u001B[0m\n",
      "\u001B[1;32m_pydevd_bundle\\\\pydevd_cython_win32_37_64.pyx\u001B[0m in \u001B[0;36m_pydevd_bundle.pydevd_cython_win32_37_64.PyDBFrame.trace_dispatch\u001B[1;34m()\u001B[0m\n",
      "\u001B[1;32m_pydevd_bundle\\\\pydevd_cython_win32_37_64.pyx\u001B[0m in \u001B[0;36m_pydevd_bundle.pydevd_cython_win32_37_64.PyDBFrame.trace_dispatch\u001B[1;34m()\u001B[0m\n",
      "\u001B[1;32m_pydevd_bundle\\\\pydevd_cython_win32_37_64.pyx\u001B[0m in \u001B[0;36m_pydevd_bundle.pydevd_cython_win32_37_64.PyDBFrame.do_wait_suspend\u001B[1;34m()\u001B[0m\n",
      "\u001B[1;32mC:\\Program Files\\JetBrains\\PyCharm 2024.1.1\\plugins\\python\\helpers\\pydev\\pydevd.py\u001B[0m in \u001B[0;36mdo_wait_suspend\u001B[1;34m(self, thread, frame, event, arg, send_suspend_message, is_unhandled_exception)\u001B[0m\n\u001B[0;32m   1183\u001B[0m \u001B[1;33m\u001B[0m\u001B[0m\n\u001B[0;32m   1184\u001B[0m         \u001B[1;32mwith\u001B[0m \u001B[0mself\u001B[0m\u001B[1;33m.\u001B[0m\u001B[0m_threads_suspended_single_notification\u001B[0m\u001B[1;33m.\u001B[0m\u001B[0mnotify_thread_suspended\u001B[0m\u001B[1;33m(\u001B[0m\u001B[0mthread_id\u001B[0m\u001B[1;33m,\u001B[0m \u001B[0mstop_reason\u001B[0m\u001B[1;33m)\u001B[0m\u001B[1;33m:\u001B[0m\u001B[1;33m\u001B[0m\u001B[1;33m\u001B[0m\u001B[0m\n\u001B[1;32m-> 1185\u001B[1;33m             \u001B[0mself\u001B[0m\u001B[1;33m.\u001B[0m\u001B[0m_do_wait_suspend\u001B[0m\u001B[1;33m(\u001B[0m\u001B[0mthread\u001B[0m\u001B[1;33m,\u001B[0m \u001B[0mframe\u001B[0m\u001B[1;33m,\u001B[0m \u001B[0mevent\u001B[0m\u001B[1;33m,\u001B[0m \u001B[0marg\u001B[0m\u001B[1;33m,\u001B[0m \u001B[0msuspend_type\u001B[0m\u001B[1;33m,\u001B[0m \u001B[0mfrom_this_thread\u001B[0m\u001B[1;33m)\u001B[0m\u001B[1;33m\u001B[0m\u001B[1;33m\u001B[0m\u001B[0m\n\u001B[0m\u001B[0;32m   1186\u001B[0m \u001B[1;33m\u001B[0m\u001B[0m\n\u001B[0;32m   1187\u001B[0m     \u001B[1;32mdef\u001B[0m \u001B[0m_do_wait_suspend\u001B[0m\u001B[1;33m(\u001B[0m\u001B[0mself\u001B[0m\u001B[1;33m,\u001B[0m \u001B[0mthread\u001B[0m\u001B[1;33m,\u001B[0m \u001B[0mframe\u001B[0m\u001B[1;33m,\u001B[0m \u001B[0mevent\u001B[0m\u001B[1;33m,\u001B[0m \u001B[0marg\u001B[0m\u001B[1;33m,\u001B[0m \u001B[0msuspend_type\u001B[0m\u001B[1;33m,\u001B[0m \u001B[0mfrom_this_thread\u001B[0m\u001B[1;33m)\u001B[0m\u001B[1;33m:\u001B[0m\u001B[1;33m\u001B[0m\u001B[1;33m\u001B[0m\u001B[0m\n",
      "\u001B[1;32mC:\\Program Files\\JetBrains\\PyCharm 2024.1.1\\plugins\\python\\helpers\\pydev\\pydevd.py\u001B[0m in \u001B[0;36m_do_wait_suspend\u001B[1;34m(self, thread, frame, event, arg, suspend_type, from_this_thread)\u001B[0m\n\u001B[0;32m   1198\u001B[0m \u001B[1;33m\u001B[0m\u001B[0m\n\u001B[0;32m   1199\u001B[0m                 \u001B[0mself\u001B[0m\u001B[1;33m.\u001B[0m\u001B[0mprocess_internal_commands\u001B[0m\u001B[1;33m(\u001B[0m\u001B[1;33m)\u001B[0m\u001B[1;33m\u001B[0m\u001B[1;33m\u001B[0m\u001B[0m\n\u001B[1;32m-> 1200\u001B[1;33m                 \u001B[0mtime\u001B[0m\u001B[1;33m.\u001B[0m\u001B[0msleep\u001B[0m\u001B[1;33m(\u001B[0m\u001B[1;36m0.01\u001B[0m\u001B[1;33m)\u001B[0m\u001B[1;33m\u001B[0m\u001B[1;33m\u001B[0m\u001B[0m\n\u001B[0m\u001B[0;32m   1201\u001B[0m \u001B[1;33m\u001B[0m\u001B[0m\n\u001B[0;32m   1202\u001B[0m         \u001B[0mself\u001B[0m\u001B[1;33m.\u001B[0m\u001B[0mcancel_async_evaluation\u001B[0m\u001B[1;33m(\u001B[0m\u001B[0mget_current_thread_id\u001B[0m\u001B[1;33m(\u001B[0m\u001B[0mthread\u001B[0m\u001B[1;33m)\u001B[0m\u001B[1;33m,\u001B[0m \u001B[0mstr\u001B[0m\u001B[1;33m(\u001B[0m\u001B[0mid\u001B[0m\u001B[1;33m(\u001B[0m\u001B[0mframe\u001B[0m\u001B[1;33m)\u001B[0m\u001B[1;33m)\u001B[0m\u001B[1;33m)\u001B[0m\u001B[1;33m\u001B[0m\u001B[1;33m\u001B[0m\u001B[0m\n",
      "\u001B[1;31mKeyboardInterrupt\u001B[0m: "
     ]
    }
   ],
   "execution_count": 3
  }
 ],
 "metadata": {
  "kernelspec": {
   "display_name": "Python 3",
   "language": "python",
   "name": "python3"
  },
  "language_info": {
   "codemirror_mode": {
    "name": "ipython",
    "version": 2
   },
   "file_extension": ".py",
   "mimetype": "text/x-python",
   "name": "python",
   "nbconvert_exporter": "python",
   "pygments_lexer": "ipython2",
   "version": "2.7.6"
  }
 },
 "nbformat": 4,
 "nbformat_minor": 5
}
