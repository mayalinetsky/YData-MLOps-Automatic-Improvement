{
 "cells": [
  {
   "metadata": {},
   "cell_type": "markdown",
   "source": [
    "Auto Improvement Using MetaModelClassification - Example Usage\n",
    "===\n",
    "\n",
    "This notebook demonstrates two example usages of MetaModelClassification:\n",
    "\n",
    "Example 1: Bank Marketing Dataset. <br>\n",
    "Example 2: German Credit Risk Dataset. <br>\n",
    "\n",
    "Read about the datasets [here](../../Docs/Data_Dictionaries/ReadMe.md) and their baselines [here](../../Docs/Models/Baseline)."
   ],
   "id": "d94f1ec0dca8f6f3"
  },
  {
   "metadata": {},
   "cell_type": "code",
   "outputs": [],
   "execution_count": null,
   "source": [
    "from auto_improve_pipeline import MetamodelClassification\n",
    "from sklearn.model_selection import train_test_split\n",
    "from sklearn.metrics import log_loss"
   ],
   "id": "e23668c13a42213b"
  },
  {
   "metadata": {},
   "cell_type": "markdown",
   "source": "# Example 1: Improving Log Loss on the Bank Marketing Dataset",
   "id": "f92c0ed78f0f55e3"
  },
  {
   "metadata": {},
   "cell_type": "code",
   "outputs": [],
   "execution_count": null,
   "source": "",
   "id": "eb11ec53540c4252"
  },
  {
   "metadata": {},
   "cell_type": "markdown",
   "source": "# Example 2: Improving Log Loss on the German Credit Risk Dataset",
   "id": "3c106771b76c1263"
  }
 ],
 "metadata": {
  "kernelspec": {
   "display_name": "Python 3",
   "language": "python",
   "name": "python3"
  },
  "language_info": {
   "codemirror_mode": {
    "name": "ipython",
    "version": 2
   },
   "file_extension": ".py",
   "mimetype": "text/x-python",
   "name": "python",
   "nbconvert_exporter": "python",
   "pygments_lexer": "ipython2",
   "version": "2.7.6"
  }
 },
 "nbformat": 4,
 "nbformat_minor": 5
}
