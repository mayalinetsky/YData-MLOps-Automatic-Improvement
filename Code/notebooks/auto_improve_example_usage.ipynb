{
 "cells": [
  {
   "metadata": {},
   "cell_type": "markdown",
   "source": [
    "Auto Improvement Using MetaModelClassification - Example Usage\n",
    "===\n",
    "\n",
    "This notebook demonstrates two example usages of MetaModelClassification:\n",
    "\n",
    "Example 1: Bank Marketing Dataset. <br>\n",
    "Example 2: German Credit Risk Dataset. <br>\n",
    "\n",
    "Read about the datasets [here](../../Docs/Data_Dictionaries/ReadMe.md) and their baselines [here](../../Docs/Models/Baseline)."
   ],
   "id": "d94f1ec0dca8f6f3"
  },
  {
   "metadata": {
    "ExecuteTime": {
     "end_time": "2024-07-13T12:55:57.362281Z",
     "start_time": "2024-07-13T12:55:54.405544Z"
    }
   },
   "cell_type": "code",
   "source": [
    "from auto_improve_pipeline import MetamodelClassification\n",
    "from sklearn.model_selection import train_test_split\n",
    "from sklearn.metrics import log_loss\n",
    "from sklearn.pipeline import Pipeline"
   ],
   "id": "e23668c13a42213b",
   "outputs": [],
   "execution_count": 1
  },
  {
   "metadata": {},
   "cell_type": "markdown",
   "source": "# Example 1: Improving Log Loss on the Bank Marketing Dataset",
   "id": "f92c0ed78f0f55e3"
  },
  {
   "metadata": {},
   "cell_type": "markdown",
   "source": "## Data Loading and Train Test Split",
   "id": "5f179a9b626d1368"
  },
  {
   "metadata": {
    "ExecuteTime": {
     "end_time": "2024-07-13T12:56:02.780032Z",
     "start_time": "2024-07-13T12:55:57.363281Z"
    }
   },
   "cell_type": "code",
   "source": [
    "from data_acquisition.bank_marketing_loading import load_bank_marketing_dataset\n",
    "from data_acquisition.bank_marketing_constants import DEPOSIT\n",
    "from modeling.xgboost_bank_marketing_impl import preprocess_labels as preprocess_bank_marketing_labels\n",
    "\n",
    "bank_marketing_raw_df = load_bank_marketing_dataset()\n",
    "\n",
    "raw_X = bank_marketing_raw_df.drop(columns=[DEPOSIT])\n",
    "raw_y = bank_marketing_raw_df[DEPOSIT]\n",
    "y = preprocess_bank_marketing_labels(raw_y)\n",
    "\n",
    "X_train, X_test, y_train, y_test = train_test_split(raw_X, y, test_size=0.3, random_state=2, stratify=y)"
   ],
   "id": "2843f869c964a89f",
   "outputs": [],
   "execution_count": 2
  },
  {
   "metadata": {},
   "cell_type": "markdown",
   "source": "## Original Log Loss",
   "id": "7b50aeb0dac138a1"
  },
  {
   "metadata": {
    "ExecuteTime": {
     "end_time": "2024-07-13T12:56:03.494713Z",
     "start_time": "2024-07-13T12:56:02.782039Z"
    }
   },
   "cell_type": "code",
   "source": [
    "import modeling.xgboost_bank_marketing_impl as bank_marketing_impl\n",
    "\n",
    "base_model_pipeline = Pipeline(steps=[\n",
    "    ('preprocess', bank_marketing_impl.get_feature_preprocessor_step()),\n",
    "    ('base_model', bank_marketing_impl.get_model_for_training())\n",
    "])\n",
    "\n",
    "base_model_pipeline.fit(X_train, y_train)\n",
    "base_pred_test = base_model_pipeline.predict(X_test)  # shape (n_samples,)\n",
    "# base_pred_test which is the predicted integer label, can be used as probabilities in log loss because:\n",
    "# base_pred_test[i] = 0 -> probability of the positive class for sample i is 0\n",
    "# base_pred_test[i] = 1 -> probability of the positive class for sample i is 1\n",
    "base_model_log_loss_val = log_loss(y_test, base_pred_test)\n",
    "print(f\"Base Model Log Loss: {base_model_log_loss_val}\")"
   ],
   "id": "eb11ec53540c4252",
   "outputs": [
    {
     "name": "stdout",
     "output_type": "stream",
     "text": [
      "Base Model Log Loss: 3.707508753699377\n"
     ]
    }
   ],
   "execution_count": 3
  },
  {
   "metadata": {},
   "cell_type": "markdown",
   "source": "## Improved Log Loss",
   "id": "adef68ef7e0cd71c"
  },
  {
   "metadata": {
    "ExecuteTime": {
     "end_time": "2024-07-13T12:56:04.931756Z",
     "start_time": "2024-07-13T12:56:03.495713Z"
    }
   },
   "cell_type": "code",
   "source": [
    "uq_pipeline = Pipeline(steps=[\n",
    "    ('preprocess', bank_marketing_impl.get_feature_preprocessor_step()),\n",
    "    ('uq_model', MetamodelClassification(base_model=bank_marketing_impl.get_model_for_training(), \n",
    "                                         meta_model='gbm', meta_config={},\n",
    "                                         random_seed=42))\n",
    "])\n",
    "\n",
    "uq_pipeline.fit(X_train, y_train)\n",
    "uq_pred_test, uq_pred_test_score = uq_pipeline.predict(X_test)\n",
    "\n",
    "uq_model_log_loss_val = log_loss(y_test, uq_pred_test_score)\n",
    "print(f\"UQ Model Log Loss: {uq_model_log_loss_val}\")"
   ],
   "id": "c1e1efc6c1d20fd3",
   "outputs": [
    {
     "name": "stdout",
     "output_type": "stream",
     "text": [
      "UQ Model Log Loss: 2.348218595064319\n"
     ]
    }
   ],
   "execution_count": 4
  },
  {
   "metadata": {},
   "cell_type": "markdown",
   "source": "# Example 2: Improving Log Loss on the German Credit Risk Dataset",
   "id": "3c106771b76c1263"
  },
  {
   "metadata": {},
   "cell_type": "markdown",
   "source": "## Data Loading and Train Test Split",
   "id": "ff1b8c0f973e894d"
  },
  {
   "metadata": {
    "ExecuteTime": {
     "end_time": "2024-07-13T13:07:28.934075Z",
     "start_time": "2024-07-13T13:07:25.385488Z"
    }
   },
   "cell_type": "code",
   "source": [
    "from data_acquisition.german_credit_loading import load_german_credit_risk_dataset, TARGET_COL\n",
    "import modeling.xgboost_german_credit_impl as german_credit_impl\n",
    "\n",
    "german_credit_raw_df = load_german_credit_risk_dataset()\n",
    "raw_X = german_credit_raw_df.drop(columns=[TARGET_COL])\n",
    "raw_y = german_credit_raw_df[TARGET_COL]\n",
    "y = german_credit_impl.preprocess_labels(raw_y)\n",
    "\n",
    "X_train, X_test, y_train, y_test = train_test_split(raw_X, y, test_size=0.3, random_state=2, stratify=y)"
   ],
   "id": "eaec710fc2fae318",
   "outputs": [],
   "execution_count": 15
  },
  {
   "metadata": {},
   "cell_type": "markdown",
   "source": "## Original Log Loss",
   "id": "84c283afceed1980"
  },
  {
   "metadata": {
    "ExecuteTime": {
     "end_time": "2024-07-13T13:07:32.392132Z",
     "start_time": "2024-07-13T13:07:31.340895Z"
    }
   },
   "cell_type": "code",
   "source": [
    "german_credit_preprocessor = german_credit_impl.get_feature_preprocessor_step()\n",
    "\n",
    "X_train = german_credit_preprocessor.fit_transform(X_train, y_train)\n",
    "X_test = german_credit_preprocessor.transform(X_test)\n",
    "\n",
    "german_credit_base_model, german_credit_fit_params = german_credit_impl.get_model_for_training(X_train, y_train, X_test, y_test)\n",
    "\n",
    "base_model_pipeline = Pipeline(steps=[\n",
    "    ('base_model', german_credit_base_model)\n",
    "])\n",
    "\n",
    "base_model_pipeline.fit(X_train, y_train, **{f'base_model__{param}': val for param, val in german_credit_fit_params.items()})\n",
    "base_pred_test = base_model_pipeline.predict(X_test)  # shape (n_samples,)\n",
    "# base_pred_test which is the predicted integer label, can be used as probabilities in log loss because:\n",
    "# base_pred_test[i] = 0 -> probability of the positive class for sample i is 0\n",
    "# base_pred_test[i] = 1 -> probability of the positive class for sample i is 1\n",
    "base_model_log_loss_val = log_loss(y_test, base_pred_test)\n",
    "print(f\"Base Model Log Loss: {base_model_log_loss_val}\")"
   ],
   "id": "30e322e49cc3ea35",
   "outputs": [
    {
     "name": "stdout",
     "output_type": "stream",
     "text": [
      "[0]\tvalidation_0-auc:0.77686\tvalidation_1-auc:0.67772\n",
      "[100]\tvalidation_0-auc:0.88135\tvalidation_1-auc:0.74302\n",
      "[200]\tvalidation_0-auc:0.89594\tvalidation_1-auc:0.75190\n",
      "[300]\tvalidation_0-auc:0.90854\tvalidation_1-auc:0.75667\n",
      "[400]\tvalidation_0-auc:0.91961\tvalidation_1-auc:0.75947\n",
      "[500]\tvalidation_0-auc:0.92977\tvalidation_1-auc:0.76222\n",
      "[600]\tvalidation_0-auc:0.93856\tvalidation_1-auc:0.76693\n",
      "[700]\tvalidation_0-auc:0.94522\tvalidation_1-auc:0.76958\n",
      "[800]\tvalidation_0-auc:0.95080\tvalidation_1-auc:0.76989\n",
      "[900]\tvalidation_0-auc:0.95598\tvalidation_1-auc:0.77053\n",
      "[942]\tvalidation_0-auc:0.95847\tvalidation_1-auc:0.77085\n",
      "base_pred_test shape: (300,)\n",
      "Base Model Log Loss: 9.210486964838385\n"
     ]
    }
   ],
   "execution_count": 16
  },
  {
   "metadata": {},
   "cell_type": "markdown",
   "source": "## Improved Log Loss",
   "id": "454950274b352c8c"
  },
  {
   "metadata": {
    "ExecuteTime": {
     "end_time": "2024-07-13T13:07:43.068732Z",
     "start_time": "2024-07-13T13:07:41.166250Z"
    }
   },
   "cell_type": "code",
   "source": [
    "german_credit_base_model, german_credit_fit_params = german_credit_impl.get_model_for_training(X_train, y_train, X_test, y_test)\n",
    "\n",
    "uq_pipeline = Pipeline(steps=[\n",
    "    ('uq_model', MetamodelClassification(base_model=german_credit_base_model, \n",
    "                                         meta_model='gbm', meta_config={},\n",
    "                                         random_seed=42))\n",
    "])\n",
    "\n",
    "uq_pipeline.fit(X_train, y_train)\n",
    "uq_pred_test, uq_pred_test_score = uq_pipeline.predict(X_test)\n",
    "\n",
    "uq_model_log_loss_val = log_loss(y_test, uq_pred_test_score)\n",
    "print(f\"UQ Model Log Loss: {uq_model_log_loss_val}\")"
   ],
   "id": "5a079e7d53932815",
   "outputs": [
    {
     "name": "stdout",
     "output_type": "stream",
     "text": [
      "UQ Model Log Loss: 0.9617334628179299\n"
     ]
    }
   ],
   "execution_count": 17
  }
 ],
 "metadata": {
  "kernelspec": {
   "display_name": "Python 3",
   "language": "python",
   "name": "python3"
  },
  "language_info": {
   "codemirror_mode": {
    "name": "ipython",
    "version": 2
   },
   "file_extension": ".py",
   "mimetype": "text/x-python",
   "name": "python",
   "nbconvert_exporter": "python",
   "pygments_lexer": "ipython2",
   "version": "2.7.6"
  }
 },
 "nbformat": 4,
 "nbformat_minor": 5
}
