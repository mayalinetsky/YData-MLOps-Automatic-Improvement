{
 "cells": [
  {
   "metadata": {},
   "cell_type": "markdown",
   "source": [
    "Auto Improvement Using MACEst - Example Usage\n",
    "===\n",
    "\n",
    "todo: implement an example use case of the API in auto_improve_macest using the two xgboost models under modeling."
   ],
   "id": "d94f1ec0dca8f6f3"
  }
 ],
 "metadata": {
  "kernelspec": {
   "display_name": "Python 3",
   "language": "python",
   "name": "python3"
  },
  "language_info": {
   "codemirror_mode": {
    "name": "ipython",
    "version": 2
   },
   "file_extension": ".py",
   "mimetype": "text/x-python",
   "name": "python",
   "nbconvert_exporter": "python",
   "pygments_lexer": "ipython2",
   "version": "2.7.6"
  }
 },
 "nbformat": 4,
 "nbformat_minor": 5
}
