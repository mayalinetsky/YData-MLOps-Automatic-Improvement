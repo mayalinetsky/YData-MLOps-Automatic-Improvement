{
 "cells": [
  {
   "metadata": {},
   "cell_type": "markdown",
   "source": [
    "Auto Improvement Using MetaModelClassification - Example Usage\n",
    "===\n",
    "\n",
    "This notebook demonstrates two example usages of MetaModelClassification:\n",
    "\n",
    "Example 1: Bank Marketing Dataset. <br>\n",
    "Example 2: German Credit Risk Dataset. <br>\n",
    "\n",
    "Read about the datasets [here](../../Docs/Data_Dictionaries/ReadMe.md) and their baselines [here](../../Docs/Models/Baseline)."
   ],
   "id": "d94f1ec0dca8f6f3"
  },
  {
   "metadata": {
    "ExecuteTime": {
     "end_time": "2024-07-13T11:12:02.146389Z",
     "start_time": "2024-07-13T11:11:57.949444Z"
    }
   },
   "cell_type": "code",
   "source": [
    "from auto_improve_pipeline import MetamodelClassification\n",
    "from sklearn.model_selection import train_test_split\n",
    "from sklearn.metrics import log_loss\n",
    "from sklearn.pipeline import Pipeline"
   ],
   "id": "e23668c13a42213b",
   "outputs": [],
   "execution_count": 1
  },
  {
   "metadata": {},
   "cell_type": "markdown",
   "source": "# Example 1: Improving Log Loss on the Bank Marketing Dataset",
   "id": "f92c0ed78f0f55e3"
  },
  {
   "metadata": {},
   "cell_type": "markdown",
   "source": "## Data Loading and Train Test Split",
   "id": "5f179a9b626d1368"
  },
  {
   "metadata": {
    "ExecuteTime": {
     "end_time": "2024-07-13T11:12:05.344769Z",
     "start_time": "2024-07-13T11:12:02.147375Z"
    }
   },
   "cell_type": "code",
   "source": [
    "from data_acquisition.bank_marketing_loading import load_bank_marketing_dataset\n",
    "from data_acquisition.bank_marketing_constants import DEPOSIT\n",
    "from modeling.xgboost_bank_marketing_impl import preprocess_labels\n",
    "\n",
    "bank_marketing_raw_df = load_bank_marketing_dataset()\n",
    "\n",
    "raw_X = bank_marketing_raw_df.drop(columns=[DEPOSIT])\n",
    "raw_y = bank_marketing_raw_df[DEPOSIT]\n",
    "y = preprocess_labels(raw_y)\n",
    "\n",
    "X_train, X_test, y_train, y_test = train_test_split(raw_X, y, test_size=0.3, random_state=2, stratify=y)"
   ],
   "id": "2843f869c964a89f",
   "outputs": [],
   "execution_count": 2
  },
  {
   "metadata": {},
   "cell_type": "markdown",
   "source": "## Original Log Loss",
   "id": "7b50aeb0dac138a1"
  },
  {
   "metadata": {
    "ExecuteTime": {
     "end_time": "2024-07-13T11:12:06.086008Z",
     "start_time": "2024-07-13T11:12:05.345756Z"
    }
   },
   "cell_type": "code",
   "source": [
    "from modeling.xgboost_bank_marketing_impl import get_feature_preprocessor_step, get_model_for_training\n",
    "\n",
    "base_model_pipeline = Pipeline(steps=[\n",
    "    ('preprocess', get_feature_preprocessor_step()),\n",
    "    ('base_model', get_model_for_training())\n",
    "])\n",
    "\n",
    "base_model_pipeline.fit(X_train, y_train)\n",
    "base_pred_test = base_model_pipeline.predict(X_test)  # shape (n_samples,)\n",
    "# base_pred_test which is the predicted integer label, can be used as probabilities in log loss because:\n",
    "# base_pred_test[i] = 0 -> probability of the positive class for sample i is 0\n",
    "# base_pred_test[i] = 1 -> probability of the positive class for sample i is 1\n",
    "base_model_log_loss_val = log_loss(y_test, base_pred_test)\n",
    "print(f\"Base Model Log Loss: {base_model_log_loss_val}\")"
   ],
   "id": "eb11ec53540c4252",
   "outputs": [
    {
     "name": "stdout",
     "output_type": "stream",
     "text": [
      "Base Model Log Loss: 3.707508753699377\n"
     ]
    }
   ],
   "execution_count": 3
  },
  {
   "metadata": {},
   "cell_type": "markdown",
   "source": "## Improved Log Loss",
   "id": "adef68ef7e0cd71c"
  },
  {
   "metadata": {
    "ExecuteTime": {
     "end_time": "2024-07-13T11:12:07.493781Z",
     "start_time": "2024-07-13T11:12:06.087010Z"
    }
   },
   "cell_type": "code",
   "source": [
    "from auto_improve_pipeline import MetamodelClassification\n",
    "\n",
    "uq_pipeline = Pipeline(steps=[\n",
    "    ('preprocess', get_feature_preprocessor_step()),\n",
    "    ('uq_model', MetamodelClassification(base_model=get_model_for_training(), \n",
    "                                         meta_model='gbm', meta_config={},\n",
    "                                         random_seed=42))\n",
    "])\n",
    "\n",
    "uq_pipeline.fit(X_train, y_train)\n",
    "uq_pred_test, uq_pred_test_score = uq_pipeline.predict(X_test)\n",
    "\n",
    "uq_model_log_loss_val = log_loss(y_test, uq_pred_test_score)\n",
    "print(f\"UQ Model Log Loss: {uq_model_log_loss_val}\")"
   ],
   "id": "c1e1efc6c1d20fd3",
   "outputs": [
    {
     "name": "stdout",
     "output_type": "stream",
     "text": [
      "UQ Model Log Loss: 2.348401489338172\n"
     ]
    }
   ],
   "execution_count": 4
  },
  {
   "metadata": {},
   "cell_type": "markdown",
   "source": "# Example 2: Improving Log Loss on the German Credit Risk Dataset",
   "id": "3c106771b76c1263"
  }
 ],
 "metadata": {
  "kernelspec": {
   "display_name": "Python 3",
   "language": "python",
   "name": "python3"
  },
  "language_info": {
   "codemirror_mode": {
    "name": "ipython",
    "version": 2
   },
   "file_extension": ".py",
   "mimetype": "text/x-python",
   "name": "python",
   "nbconvert_exporter": "python",
   "pygments_lexer": "ipython2",
   "version": "2.7.6"
  }
 },
 "nbformat": 4,
 "nbformat_minor": 5
}
